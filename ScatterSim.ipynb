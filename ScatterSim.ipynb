{
 "cells": [
  {
   "cell_type": "markdown",
   "metadata": {},
   "source": [
    "## 微珠散射介质模拟"
   ]
  },
  {
   "cell_type": "markdown",
   "metadata": {},
   "source": [
    "### 微珠散射介质构建"
   ]
  },
  {
   "cell_type": "code",
   "execution_count": 20,
   "metadata": {},
   "outputs": [],
   "source": [
    "import numpy as np\n",
    "import matplotlib.pyplot as plt"
   ]
  },
  {
   "cell_type": "code",
   "execution_count": 21,
   "metadata": {},
   "outputs": [],
   "source": [
    "def generate_balls(n, area, r_range, random_weight):\n",
    "    balls = []\n",
    "    for i in range(n):\n",
    "        x = np.random.randint(area[0, 0], area[0, 1])\n",
    "        y = np.random.randint(area[1, 0], area[1, 1])\n",
    "        z = np.random.randint(area[2, 0], area[2, 1])\n",
    "        r = np.random.rand() * random_weight * r_range[1] + (1 - np.random.rand() * random_weight) * r_range[0]\n",
    "        attempts = 0\n",
    "        while attempts < 100:\n",
    "            overlap = False\n",
    "            for ball in balls:\n",
    "                distance = np.sqrt((x - ball[0])**2 + (y - ball[1])**2 + (z - ball[2])**2)\n",
    "                if distance < (r + ball[3]):\n",
    "                    overlap = True\n",
    "                    break\n",
    "            if not overlap:\n",
    "                break\n",
    "            x = np.random.randint(area[0, 0], area[0, 1])\n",
    "            y = np.random.randint(area[1, 0], area[1, 1])\n",
    "            z = np.random.randint(area[2, 0], area[2, 1])\n",
    "            r = np.random.rand() * random_weight * r_range[1] + (1 - np.random.rand() * random_weight) * r_range[0]\n",
    "            attempts += 1\n",
    "        balls.append([x, y, z, r])\n",
    "    return balls"
   ]
  },
  {
   "cell_type": "code",
   "execution_count": 22,
   "metadata": {},
   "outputs": [],
   "source": [
    "def light_source(grid_shape, amplitude, polarization, phase, wavelength, center, span):\n",
    "    light_source = {\n",
    "        'grid_shape': grid_shape,#波源的网格数目\n",
    "        'positions': [], #所有网格的位置，一个[nx, ny, 3]的数组\n",
    "        'amplitudes': amplitude, #振幅,一个[nx, ny]的数组\n",
    "        'polarizations': polarization,#偏振角度，一个[nx, ny]的数组\n",
    "        'phases': phase,#相位，一个[nx, ny]的数组\n",
    "        'wavelength': wavelength,#波长\n",
    "        'center': center,#中心位置,一个[3]的数组\n",
    "        'span': span#范围，一个[2]的数组，表示二维波源的纵横尺寸\n",
    "    }\n",
    "\n",
    "    positions = np.zeros(grid_shape)\n",
    "    for nx in range(grid_shape[0]):\n",
    "        for ny in range(grid_shape[1]):\n",
    "                x = nx * (span[0] / grid_shape[0]) - span[0]/2 + center[0]\n",
    "                y = ny * (span[1] / grid_shape[1]) - span[1]/2 + center[1]\n",
    "                z =center[2]\n",
    "                positions[nx, ny] = [x, y, z]\n",
    "    light_source['positions'] = positions\n",
    "    \n",
    "    return light_source\n",
    "\n",
    "def plane_wave(gride_shape, A, polarization, phase, wavelength, center, span):\n",
    "    amplitude = np.ones(gride_shape) * A\n",
    "    phase = np.ones(gride_shape) * phase\n",
    "    polarization = np.ones(gride_shape) * polarization\n",
    "    return light_source(gride_shape, amplitude, polarization, phase, wavelength, center, span)\n",
    "\n",
    "def gaussian_beam(grid_shape, A, polarization, phase, center,wavelength , span, waist):\n",
    "    amplitude = np.zeros(grid_shape)\n",
    "    for nx in range(grid_shape[0]):\n",
    "        for ny in range(grid_shape[1]):\n",
    "            x = nx * (span[0] / grid_shape[0]) - span[0]/2 + center[0]\n",
    "            y = ny * (span[1] / grid_shape[1]) - span[1]/2 + center[1]\n",
    "            r = np.sqrt((x - center[0])**2 + (y - center[1])**2)\n",
    "            amplitude[nx, ny] = A * np.exp(-(r**2) / (2 * waist**2))\n",
    "        \n",
    "    phase = np.ones(grid_shape) * phase\n",
    "    polarization = np.ones(grid_shape) * polarization\n",
    "    return light_source(grid_shape, amplitude, polarization, phase,wavelength, center, span) \n"
   ]
  },
  {
   "cell_type": "code",
   "execution_count": 23,
   "metadata": {},
   "outputs": [],
   "source": [
    "def monitor(grid_shape, center, span):\n",
    "    light_source = {\n",
    "        'grid_shape': grid_shape,#波源的网格数目\n",
    "        'positions': [], #所有网格的位置，一个[nx, ny, 3]的数组\n",
    "        'amplitudes': amplitude, #振幅,一个[nx, ny]的数组\n",
    "        'polarizations': polarization,#偏振角度，一个[nx, ny]的数组\n",
    "        'phases': phase,#相位，一个[nx, ny]的数组\n",
    "        'center': center,#中心位置,一个[3]的数组\n",
    "        'span': span#范围，一个[2]的数组，表示二维波源的纵横尺寸\n",
    "    }\n",
    "\n",
    "    positions = np.zeros(grid_shape)\n",
    "    \n",
    "    for nx in range(grid_shape[0]):\n",
    "        for ny in range(grid_shape[1]):\n",
    "                x = nx * (span[0] / grid_shape[0]) - span[0]/2 + center[0]\n",
    "                y = ny * (span[1] / grid_shape[1]) - span[1]/2 + center[1]\n",
    "                z =center[2]\n",
    "                positions[nx, ny] = [x, y, z]\n",
    "\n",
    "    light_source['positions'] = positions\n",
    "    \n",
    "    return light_source"
   ]
  },
  {
   "cell_type": "code",
   "execution_count": 24,
   "metadata": {},
   "outputs": [],
   "source": [
    "def light_field_add(amplitude,phase,polarization):\n",
    "    n = len(amplitude)\n",
    "    total_amplitude = np.zeros_like(amplitude[0])\n",
    "    total_phase = np.zeros_like(phase[0])\n",
    "    total_polarization = np.zeros_like(polarization[0])\n",
    "\n",
    "    for i in range(n):\n",
    "        total_amplitude_x += amplitude[i] * np.exp(1j * phase[i])\n",
    "    for i in range(n):\n",
    "        total_amplitude_y += amplitude[i] * np.exp(1j * phase[i]) * np.cos(polarization[i])\n",
    "    \n",
    "    total_phase = np.angle(total_amplitude)\n",
    "    total_amplitude = np.abs(total_amplitude_x)\n",
    "    total_polarization = np.arctan2(np.real(total_amplitude), np.real(total_amplitude_y))\n",
    "\n",
    "    return total_amplitude, total_phase, total_polarization"
   ]
  },
  {
   "cell_type": "code",
   "execution_count": 27,
   "metadata": {},
   "outputs": [
    {
     "ename": "ValueError",
     "evalue": "setting an array element with a sequence.",
     "output_type": "error",
     "traceback": [
      "\u001b[0;31m---------------------------------------------------------------------------\u001b[0m",
      "\u001b[0;31mTypeError\u001b[0m                                 Traceback (most recent call last)",
      "\u001b[0;31mTypeError\u001b[0m: float() argument must be a string or a real number, not 'list'",
      "\nThe above exception was the direct cause of the following exception:\n",
      "\u001b[0;31mValueError\u001b[0m                                Traceback (most recent call last)",
      "Cell \u001b[0;32mIn[27], line 20\u001b[0m\n\u001b[1;32m     18\u001b[0m y \u001b[38;5;241m=\u001b[39m np\u001b[38;5;241m.\u001b[39mlinspace(\u001b[38;5;241m-\u001b[39m\u001b[38;5;241m10\u001b[39m, \u001b[38;5;241m10\u001b[39m, \u001b[38;5;241m100\u001b[39m)\n\u001b[1;32m     19\u001b[0m z \u001b[38;5;241m=\u001b[39m \u001b[38;5;241m10\u001b[39m\n\u001b[0;32m---> 20\u001b[0m light_source1 \u001b[38;5;241m=\u001b[39m plane_wave((\u001b[38;5;241m100\u001b[39m, \u001b[38;5;241m100\u001b[39m), \u001b[38;5;241m1\u001b[39m, \u001b[38;5;241m0\u001b[39m, \u001b[38;5;241m0\u001b[39m, \u001b[38;5;241m442\u001b[39m, (\u001b[38;5;241m0\u001b[39m,\u001b[38;5;241m0\u001b[39m,\u001b[38;5;241m0\u001b[39m), (\u001b[38;5;241m20\u001b[39m, \u001b[38;5;241m20\u001b[39m))\n\u001b[1;32m     21\u001b[0m light_field \u001b[38;5;241m=\u001b[39m fresnel_diffraction(light_source1, x, y, z)\n\u001b[1;32m     23\u001b[0m \u001b[38;5;66;03m# 绘制结果\u001b[39;00m\n",
      "Cell \u001b[0;32mIn[22], line 28\u001b[0m, in \u001b[0;36mplane_wave\u001b[0;34m(gride_shape, A, polarization, phase, wavelength, center, span)\u001b[0m\n\u001b[1;32m     26\u001b[0m phase \u001b[38;5;241m=\u001b[39m np\u001b[38;5;241m.\u001b[39mones(gride_shape) \u001b[38;5;241m*\u001b[39m phase\n\u001b[1;32m     27\u001b[0m polarization \u001b[38;5;241m=\u001b[39m np\u001b[38;5;241m.\u001b[39mones(gride_shape) \u001b[38;5;241m*\u001b[39m polarization\n\u001b[0;32m---> 28\u001b[0m \u001b[38;5;28;01mreturn\u001b[39;00m light_source(gride_shape, amplitude, polarization, phase, wavelength, center, span)\n",
      "Cell \u001b[0;32mIn[22], line 19\u001b[0m, in \u001b[0;36mlight_source\u001b[0;34m(grid_shape, amplitude, polarization, phase, wavelength, center, span)\u001b[0m\n\u001b[1;32m     17\u001b[0m             y \u001b[38;5;241m=\u001b[39m ny \u001b[38;5;241m*\u001b[39m (span[\u001b[38;5;241m1\u001b[39m] \u001b[38;5;241m/\u001b[39m grid_shape[\u001b[38;5;241m1\u001b[39m]) \u001b[38;5;241m-\u001b[39m span[\u001b[38;5;241m1\u001b[39m]\u001b[38;5;241m/\u001b[39m\u001b[38;5;241m2\u001b[39m \u001b[38;5;241m+\u001b[39m center[\u001b[38;5;241m1\u001b[39m]\n\u001b[1;32m     18\u001b[0m             z \u001b[38;5;241m=\u001b[39mcenter[\u001b[38;5;241m2\u001b[39m]\n\u001b[0;32m---> 19\u001b[0m             positions[nx, ny] \u001b[38;5;241m=\u001b[39m [x, y, z]\n\u001b[1;32m     20\u001b[0m light_source[\u001b[38;5;124m'\u001b[39m\u001b[38;5;124mpositions\u001b[39m\u001b[38;5;124m'\u001b[39m] \u001b[38;5;241m=\u001b[39m positions\n\u001b[1;32m     22\u001b[0m \u001b[38;5;28;01mreturn\u001b[39;00m light_source\n",
      "\u001b[0;31mValueError\u001b[0m: setting an array element with a sequence."
     ]
    }
   ],
   "source": [
    "def fresnel_diffraction(light_source, x, y, z):\n",
    "    k = 2 * np.pi / light_source['wavelength']  # 波数\n",
    "    amplitude = np.zeros((len(x), len(y)), dtype=complex)\n",
    "    \n",
    "    for i, xi in enumerate(x):\n",
    "        for j, yj in enumerate(y):\n",
    "            for nx in range(light_source['grid_shape'][0]):\n",
    "                for ny in range(light_source['grid_shape'][1]):\n",
    "                    pos = light_source['positions'][nx, ny]\n",
    "                    r = np.sqrt((xi - pos[0])**2 + (yj - pos[1])**2 + (z - pos[2])**2)\n",
    "                    amplitude[i, j] += (light_source['amplitudes'][nx, ny] * \n",
    "                                        np.exp(1j * (k * r + light_source['phases'][nx, ny])) / r)\n",
    "    \n",
    "    return amplitude\n",
    "\n",
    "# 示例调用\n",
    "x = np.linspace(-10, 10, 100)\n",
    "y = np.linspace(-10, 10, 100)\n",
    "z = 10\n",
    "light_source1 = plane_wave((100, 100), 1, 0, 0, 442, (0,0,0), (20, 20))\n",
    "light_field = fresnel_diffraction(light_source1, x, y, z)\n",
    "\n",
    "# 绘制结果\n",
    "plt.figure(figsize=(8, 6))\n",
    "plt.imshow(np.abs(light_field), extent=(x.min(), x.max(), y.min(), y.max()), cmap='viridis')\n",
    "plt.colorbar(label='Amplitude')\n",
    "plt.xlabel('x')\n",
    "plt.ylabel('y')\n",
    "plt.title('Fresnel Diffraction Pattern')\n",
    "plt.show()"
   ]
  }
 ],
 "metadata": {
  "kernelspec": {
   "display_name": "base",
   "language": "python",
   "name": "python3"
  },
  "language_info": {
   "codemirror_mode": {
    "name": "ipython",
    "version": 3
   },
   "file_extension": ".py",
   "mimetype": "text/x-python",
   "name": "python",
   "nbconvert_exporter": "python",
   "pygments_lexer": "ipython3",
   "version": "3.12.2"
  }
 },
 "nbformat": 4,
 "nbformat_minor": 2
}
