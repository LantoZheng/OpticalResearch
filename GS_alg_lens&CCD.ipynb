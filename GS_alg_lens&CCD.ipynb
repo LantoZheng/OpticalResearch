{
 "cells": [
  {
   "cell_type": "code",
   "execution_count": 24,
   "metadata": {},
   "outputs": [],
   "source": [
    "import numpy as np\n",
    "from PIL import Image\n",
    "import matplotlib.pyplot as plt"
   ]
  },
  {
   "cell_type": "code",
   "execution_count": 36,
   "metadata": {},
   "outputs": [],
   "source": [
    "def calculate_magnitudes(intensity):\n",
    "    return np.sqrt(intensity)\n",
    "\n",
    "def load_image_as_matrix(file_path):\n",
    "    \"\"\"加载 bmp 图像并转换为矩阵\"\"\"\n",
    "    image = Image.open(file_path)\n",
    "    image = image.convert('L')  # 转换为灰度图像\n",
    "    image_matrix = np.array(image)\n",
    "    return image_matrix\n",
    "\n",
    "def normalization(image_matrix):\n",
    "    \"\"\"将图像矩阵中的总能量归一化\"\"\"\n",
    "    total_energy = np.sum(image_matrix)\n",
    "    if total_energy == 0:\n",
    "        return image_matrix\n",
    "    normalized_matrix = image_matrix / total_energy\n",
    "    return normalized_matrix\n",
    "\n",
    "def propagate_to_far_field(input_field, wavelength, f, input_pixel_size):\n",
    "    \"\"\"模拟透镜到远场的传播\"\"\"\n",
    "    ny, nx = input_field.shape\n",
    "    fft_result = np.fft.fft2(input_field)\n",
    "    fft_shifted = np.fft.fftshift(fft_result)\n",
    "\n",
    "    # 计算输出平面坐标\n",
    "    fx = np.fft.fftfreq(nx, d=input_pixel_size[1])\n",
    "    fy = np.fft.fftfreq(ny, d=input_pixel_size[0])\n",
    "    ffx, ffy = np.meshgrid(fx, fy)\n",
    "\n",
    "    return fft_shifted\n",
    "\n",
    "def propagate_from_far_field(output_field_fft, wavelength, f, output_pixel_size):\n",
    "    \"\"\"模拟远场到透镜前的反向传播\"\"\"\n",
    "    ifft_shifted = np.fft.ifftshift(output_field_fft)\n",
    "    ifft_result = np.fft.ifft2(ifft_shifted)\n",
    "    return ifft_result\n",
    "\n",
    "def loss(prediceted_input,prediceted_output,real_input,real_output):\n",
    "    \"\"\"计算损失函数\"\"\"\n",
    "    prediceted_input = normalization(prediceted_input)\n",
    "    prediceted_output = normalization(prediceted_output)\n",
    "    real_input = normalization(real_input)\n",
    "    real_output = normalization(real_output)\n",
    "    return np.sum(prediceted_input - real_input) + np.sum(prediceted_output - real_output)\n",
    "\n",
    "def gerchberg_saxton_lens(input_amplitude, output_amplitude, wavelength, f, input_pixel_size, output_pixel_size, iterations=1000, tolerance=1e-6):\n",
    "    \"\"\"使用 GS 算法求解透镜成像场景中的相位\"\"\"\n",
    "    ny_in, nx_in = input_amplitude.shape\n",
    "    ny_out, nx_out = output_amplitude.shape\n",
    "    origianl_input_amplitude = input_amplitude\n",
    "    origianl_output_amplitude = output_amplitude\n",
    "    # 初始化输入平面相位\n",
    "    input_phase = np.random.rand(ny_in, nx_in) * 2 * np.pi - np.pi\n",
    "    input_field = input_amplitude * np.exp(1j * input_phase)\n",
    "\n",
    "    for i in range(iterations):\n",
    "        # 前向传播到远场\n",
    "        output_field_fft = propagate_to_far_field(input_field, wavelength, f, input_pixel_size)\n",
    "\n",
    "        # 确保输出场大小与输出幅度大小一致 (可能需要裁剪或补零)\n",
    "        output_field_fft_resized = np.zeros_like(output_amplitude, dtype=complex)\n",
    "        ny_fft, nx_fft = output_field_fft.shape\n",
    "        start_y = (ny_out - ny_fft) // 2\n",
    "        start_x = (nx_out - nx_fft) // 2\n",
    "        output_field_fft_resized[start_y:start_y + ny_fft, start_x:start_x + nx_fft] = output_field_fft\n",
    "\n",
    "        output_phase = np.angle(output_field_fft_resized)\n",
    "\n",
    "        # 施加输出平面幅度约束\n",
    "        output_field_constrained = output_amplitude * np.exp(1j * output_phase)\n",
    "\n",
    "        # 反向传播回输入平面\n",
    "        input_field_back = propagate_from_far_field(output_field_constrained, wavelength, f, output_pixel_size)\n",
    "\n",
    "        # 确保输入场大小与输入幅度大小一致\n",
    "        input_field_back_resized = np.zeros_like(input_amplitude, dtype=complex)\n",
    "        ny_back, nx_back = input_field_back.shape\n",
    "        start_y = (ny_in - ny_back) // 2\n",
    "        start_x = (nx_in - nx_back) // 2\n",
    "        input_field_back_resized[start_y:start_y + ny_back, start_x:start_x + nx_back] = input_field_back\n",
    "\n",
    "        input_phase = np.angle(input_field_back_resized)\n",
    "\n",
    "        # 施加输入平面幅度约束\n",
    "        input_field = input_amplitude * np.exp(1j * input_phase)\n",
    "\n",
    "        # 计算误差\n",
    "        #error = loss(origianl_input_amplitude,origianl_output_amplitude,input_amplitude,output_amplitude)\n",
    "        #if error < tolerance:\n",
    "        #    print('Itertion stops at step %d, error: %f' % (i, error))\n",
    "        #    break\n",
    "    return input_phase, output_phase\n",
    "\n"
   ]
  },
  {
   "cell_type": "code",
   "execution_count": null,
   "metadata": {},
   "outputs": [],
   "source": [
    "# 输入平面参数\n",
    "a = 8.446  # mm\n",
    "b = 7.066  # mm\n",
    "m = 2448\n",
    "n = 2048\n",
    "input_pixel_size = (a / m, b / n)\n",
    "\n",
    "# 输出平面参数\n",
    "a_prime = 8.446  # mm\n",
    "b_prime = 7.066  # mm\n",
    "m_prime = 2448\n",
    "n_prime = 2048\n",
    "output_pixel_size = (a_prime / m_prime, b_prime / n_prime)\n",
    "\n",
    "# 透镜参数\n",
    "focal_length = 50  # mm\n",
    "wavelength = 0.000442  # mm \n",
    "\n",
    "# 导入数据\n",
    "input_image_path = 'R_flatfield.bmp'\n",
    "output_image_path = 'K_flatfield.bmp'\n",
    "\n",
    "# 加载输入和输出图像, 并将其归一化\n",
    "input_intensity = normalization(load_image_as_matrix(input_image_path))\n",
    "output_intensity = normalization(load_image_as_matrix(output_image_path))\n",
    "\n",
    "# 计算幅度\n",
    "input_amplitude = calculate_magnitudes(input_intensity) \n",
    "output_amplitude = calculate_magnitudes(output_intensity)\n",
    "\n",
    "# 运行 GS 算法\n",
    "estimated_input_phase, estimated_output_phase = gerchberg_saxton_lens(\n",
    "    input_amplitude, output_amplitude, wavelength, focal_length, input_pixel_size, output_pixel_size, tolerance=1e-10\n",
    ")\n",
    "\n",
    "# 可视化结果\n",
    "plt.figure(figsize=(12, 6))\n",
    "\n",
    "plt.subplot(1, 2, 1)\n",
    "plt.imshow(estimated_input_phase, cmap='hsv')\n",
    "plt.title('Estimated Real Space Phase')\n",
    "plt.colorbar()\n",
    "\n",
    "plt.subplot(1, 2, 2)\n",
    "plt.imshow(estimated_output_phase, cmap='hsv')\n",
    "plt.title('Estimated Fourier Space Phase')\n",
    "plt.colorbar()\n",
    "\n",
    "plt.tight_layout()\n",
    "plt.show()"
   ]
  },
  {
   "cell_type": "code",
   "execution_count": 35,
   "metadata": {},
   "outputs": [
    {
     "data": {
      "text/plain": [
       "<matplotlib.image.AxesImage at 0x127545700>"
      ]
     },
     "execution_count": 35,
     "metadata": {},
     "output_type": "execute_result"
    },
    {
     "data": {
      "image/png": "[encoded data removed]",
      "text/plain": [
       "<Figure size 640x480 with 1 Axes>"
      ]
     },
     "metadata": {},
     "output_type": "display_data"
    }
   ],
   "source": [
    "input_field = input_amplitude * np.exp(1j * estimated_input_phase)\n",
    "output_field = propagate_to_far_field(input_field, wavelength, focal_length, input_pixel_size)\n",
    "output_intensity = np.abs(output_field) ** 2\n",
    "plt.imshow(output_intensity, cmap='gray')"
   ]
  },
  {
   "cell_type": "code",
   "execution_count": 31,
   "metadata": {},
   "outputs": [
    {
     "data": {
      "text/plain": [
       "<matplotlib.image.AxesImage at 0x127448410>"
      ]
     },
     "execution_count": 31,
     "metadata": {},
     "output_type": "execute_result"
    },
    {
     "data": {
      "image/png": "[encoded data removed]",
      "text/plain": [
       "<Figure size 640x480 with 1 Axes>"
      ]
     },
     "metadata": {},
     "output_type": "display_data"
    }
   ],
   "source": [
    "plt.imshow(normalization(output_intensity**2), cmap='gray')"
   ]
  }
 ],
 "metadata": {
  "kernelspec": {
   "display_name": "base",
   "language": "python",
   "name": "python3"
  },
  "language_info": {
   "codemirror_mode": {
    "name": "ipython",
    "version": 3
   },
   "file_extension": ".py",
   "mimetype": "text/x-python",
   "name": "python",
   "nbconvert_exporter": "python",
   "pygments_lexer": "ipython3",
   "version": "3.12.2"
  }
 },
 "nbformat": 4,
 "nbformat_minor": 2
}
